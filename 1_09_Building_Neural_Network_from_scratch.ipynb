{
  "cells": [
    {
      "cell_type": "markdown",
      "metadata": {
        "id": "view-in-github",
        "colab_type": "text"
      },
      "source": [
        "<a href=\"https://colab.research.google.com/github/RafsanJany-44/ARC_DEEP/blob/main/1_09_Building_Neural_Network_from_scratch.ipynb\" target=\"_parent\"><img src=\"https://colab.research.google.com/assets/colab-badge.svg\" alt=\"Open In Colab\"/></a>"
      ]
    },
    {
      "cell_type": "markdown",
      "metadata": {
        "id": "xxTbiwD_pkFb"
      },
      "source": [
        "# Building Neural Network from Scratch\n",
        "\n",
        "Putting all the concepts we have learned so far, we will see how to build a neural network\n",
        "from scratch. We will learn how the neural network learns to perform the XOR gate\n",
        "operation. The XOR gate returns 1 only when exactly only one of its inputs is 1 else it returns 0 as shown in\n",
        "the following figure:\n",
        "\n",
        "![image](https://github.com/PacktPublishing/Hands-On-Deep-Learning-Algorithms-with-Python/blob/master/Chapter01/images/1.png?raw=1)\n",
        "\n",
        "\n",
        "To perform the XOR gate operation, we build a simple two-layer neural network as shown\n",
        "in the following figure. As you can observe, we have an input layer with two nodes, a\n",
        "hidden layer with five nodes and an output layers which consist of 1 node:\n",
        "\n",
        "\n",
        "![image](https://github.com/PacktPublishing/Hands-On-Deep-Learning-Algorithms-with-Python/blob/master/Chapter01/images/2.png?raw=1)\n"
      ]
    },
    {
      "cell_type": "markdown",
      "metadata": {
        "id": "gy7TmONbpkFf"
      },
      "source": [
        "First, import the libraries:"
      ]
    },
    {
      "cell_type": "code",
      "execution_count": 1,
      "metadata": {
        "collapsed": true,
        "id": "RJtfyTShpkFf"
      },
      "outputs": [],
      "source": [
        "import numpy as np\n",
        "import matplotlib.pyplot as plt\n",
        "%matplotlib inline"
      ]
    },
    {
      "cell_type": "markdown",
      "metadata": {
        "id": "ACZ4Fv97pkFg"
      },
      "source": [
        "Prepare the data as shown in the above XOR table:"
      ]
    },
    {
      "cell_type": "code",
      "execution_count": 2,
      "metadata": {
        "collapsed": true,
        "id": "N-YidUYkpkFh"
      },
      "outputs": [],
      "source": [
        "x = np.array([ [0, 1], [1, 0], [1, 1],[0, 0] ])\n",
        "y = np.array([ [1], [1], [0], [0]])"
      ]
    },
    {
      "cell_type": "markdown",
      "metadata": {
        "id": "mz8ljWTGpkFh"
      },
      "source": [
        "Define the number of nodes in each layer:"
      ]
    },
    {
      "cell_type": "code",
      "execution_count": 3,
      "metadata": {
        "collapsed": true,
        "id": "afM-iDGPpkFh"
      },
      "outputs": [],
      "source": [
        "num_input = 2\n",
        "num_hidden = 5\n",
        "num_output = 1"
      ]
    },
    {
      "cell_type": "markdown",
      "metadata": {
        "id": "W_uM0P37pkFi"
      },
      "source": [
        "Initialize weights and bias randomly. First, we initialize, input to hidden layer weights:"
      ]
    },
    {
      "cell_type": "code",
      "execution_count": 4,
      "metadata": {
        "collapsed": true,
        "id": "DS1u3Dr7pkFi"
      },
      "outputs": [],
      "source": [
        "Wxh = np.random.randn(num_input,num_hidden)\n",
        "bh = np.zeros((1,num_hidden))"
      ]
    },
    {
      "cell_type": "code",
      "source": [
        "Wxh"
      ],
      "metadata": {
        "id": "RV2wruDLTGvw",
        "outputId": "1d80f089-ad42-4bd9-9d3c-bb3bd8db9804",
        "colab": {
          "base_uri": "https://localhost:8080/"
        }
      },
      "execution_count": 5,
      "outputs": [
        {
          "output_type": "execute_result",
          "data": {
            "text/plain": [
              "array([[ 0.31884485,  0.31698865, -1.86594834, -0.57335283, -1.48248882],\n",
              "       [-1.69218787, -0.11425237,  0.29781683, -0.19578298, -0.11769065]])"
            ]
          },
          "metadata": {},
          "execution_count": 5
        }
      ]
    },
    {
      "cell_type": "code",
      "source": [
        "bh"
      ],
      "metadata": {
        "id": "A0mEXnIATIk7",
        "outputId": "99337816-2021-4599-b9c5-c9b6a4a39662",
        "colab": {
          "base_uri": "https://localhost:8080/"
        }
      },
      "execution_count": 6,
      "outputs": [
        {
          "output_type": "execute_result",
          "data": {
            "text/plain": [
              "array([[0., 0., 0., 0., 0.]])"
            ]
          },
          "metadata": {},
          "execution_count": 6
        }
      ]
    },
    {
      "cell_type": "markdown",
      "metadata": {
        "id": "qbjLWP8FpkFj"
      },
      "source": [
        "Now initialize, hidden to output layer weights:"
      ]
    },
    {
      "cell_type": "code",
      "execution_count": 7,
      "metadata": {
        "collapsed": true,
        "id": "ZvziZvc1pkFj"
      },
      "outputs": [],
      "source": [
        "Why = np.random.randn (num_hidden,num_output)\n",
        "by = np.zeros((1,num_output))"
      ]
    },
    {
      "cell_type": "code",
      "source": [
        "Why"
      ],
      "metadata": {
        "id": "Jk7kzeBETKt2",
        "outputId": "c689e727-4392-4f3b-9314-a1c3e06d4c7a",
        "colab": {
          "base_uri": "https://localhost:8080/"
        }
      },
      "execution_count": 8,
      "outputs": [
        {
          "output_type": "execute_result",
          "data": {
            "text/plain": [
              "array([[0.73046992],\n",
              "       [0.23831993],\n",
              "       [0.35363237],\n",
              "       [1.02019266],\n",
              "       [1.82788332]])"
            ]
          },
          "metadata": {},
          "execution_count": 8
        }
      ]
    },
    {
      "cell_type": "code",
      "source": [
        "by"
      ],
      "metadata": {
        "id": "c7i8lIlrTL9s",
        "outputId": "490c84f8-f19f-444d-a0c9-b6a715b34097",
        "colab": {
          "base_uri": "https://localhost:8080/"
        }
      },
      "execution_count": 9,
      "outputs": [
        {
          "output_type": "execute_result",
          "data": {
            "text/plain": [
              "array([[0.]])"
            ]
          },
          "metadata": {},
          "execution_count": 9
        }
      ]
    },
    {
      "cell_type": "markdown",
      "metadata": {
        "id": "Aj3HZZsHpkFj"
      },
      "source": [
        "Define the sigmoid activation function:"
      ]
    },
    {
      "cell_type": "code",
      "source": [],
      "metadata": {
        "id": "ud9KRrdNTHFL"
      },
      "execution_count": null,
      "outputs": []
    },
    {
      "cell_type": "code",
      "execution_count": 10,
      "metadata": {
        "collapsed": true,
        "id": "cmQeJMXBpkFj"
      },
      "outputs": [],
      "source": [
        "def sigmoid(z):\n",
        "    return 1 / (1+np.exp(-z))"
      ]
    },
    {
      "cell_type": "markdown",
      "metadata": {
        "id": "MbJ9wYxRpkFk"
      },
      "source": [
        "Define the derivative of the sigmoid function:"
      ]
    },
    {
      "cell_type": "code",
      "execution_count": 11,
      "metadata": {
        "collapsed": true,
        "id": "LD9bYO_UpkFk"
      },
      "outputs": [],
      "source": [
        "def sigmoid_derivative(z):\n",
        "    return np.exp(-z)/((1+np.exp(-z))**2)"
      ]
    },
    {
      "cell_type": "markdown",
      "metadata": {
        "id": "wEiIQZqzpkFk"
      },
      "source": [
        "Define the forward propagation:"
      ]
    },
    {
      "cell_type": "code",
      "execution_count": 12,
      "metadata": {
        "collapsed": true,
        "id": "BrThwQ5LpkFk"
      },
      "outputs": [],
      "source": [
        "def forward_prop(x,Wxh,Why):\n",
        "    z1 = np.dot(x,Wxh) + bh\n",
        "    a1 = sigmoid(z1)\n",
        "    z2 = np.dot(a1,Why) + by\n",
        "    y_hat = sigmoid(z2)\n",
        "\n",
        "    return z1,a1,z2,y_hat"
      ]
    },
    {
      "cell_type": "markdown",
      "metadata": {
        "id": "LPQVJxu0pkFk"
      },
      "source": [
        "Define the backward propagation:"
      ]
    },
    {
      "cell_type": "code",
      "execution_count": 13,
      "metadata": {
        "collapsed": true,
        "id": "GCw6XCvdpkFk"
      },
      "outputs": [],
      "source": [
        "def backword_prop(y_hat, z1, a1, z2):\n",
        "    delta2 = np.multiply(-(y-y_hat),sigmoid_derivative(z2))\n",
        "    dJ_dWhy = np.dot(a1.T, delta2)\n",
        "    delta1 = np.dot(delta2,Why.T)*sigmoid_derivative(z1)\n",
        "    dJ_dWxh = np.dot(x.T, delta1)\n",
        "\n",
        "    return dJ_dWxh, dJ_dWhy"
      ]
    },
    {
      "cell_type": "markdown",
      "metadata": {
        "id": "y0ioOPEepkFl"
      },
      "source": [
        "Define the cost function:"
      ]
    },
    {
      "cell_type": "code",
      "execution_count": 14,
      "metadata": {
        "collapsed": true,
        "id": "fCrw9W-FpkFl"
      },
      "outputs": [],
      "source": [
        "def cost_function(y, y_hat):\n",
        "    J = 0.5*sum((y-y_hat)**2)\n",
        "    return J"
      ]
    },
    {
      "cell_type": "markdown",
      "metadata": {
        "id": "gkPKxS3zpkFl"
      },
      "source": [
        "Set the learning rate and number of training iterations:"
      ]
    },
    {
      "cell_type": "code",
      "execution_count": 18,
      "metadata": {
        "collapsed": true,
        "id": "JXnJeRLLpkFl"
      },
      "outputs": [],
      "source": [
        "alpha = 0.01\n",
        "num_iterations = 1"
      ]
    },
    {
      "cell_type": "markdown",
      "source": [
        "#Detail Calculation\n"
      ],
      "metadata": {
        "id": "CGNjuo3YIb6T"
      }
    },
    {
      "cell_type": "code",
      "source": [
        "x"
      ],
      "metadata": {
        "colab": {
          "base_uri": "https://localhost:8080/"
        },
        "id": "sZ31YfmMAAE1",
        "outputId": "be9d1665-5b6b-407f-e8f9-9b5ad76ee9c6"
      },
      "execution_count": 22,
      "outputs": [
        {
          "output_type": "execute_result",
          "data": {
            "text/plain": [
              "array([[0, 1],\n",
              "       [1, 0],\n",
              "       [1, 1],\n",
              "       [0, 0]])"
            ]
          },
          "metadata": {},
          "execution_count": 22
        }
      ]
    },
    {
      "cell_type": "code",
      "source": [
        "Wxh"
      ],
      "metadata": {
        "colab": {
          "base_uri": "https://localhost:8080/"
        },
        "id": "YSZJ_0Q5AH1t",
        "outputId": "f9aac9ab-d7b7-442a-9fef-6b44aca940a8"
      },
      "execution_count": 23,
      "outputs": [
        {
          "output_type": "execute_result",
          "data": {
            "text/plain": [
              "array([[ 0.31863045,  0.31685954, -1.86606512, -0.5738244 , -1.48303203],\n",
              "       [-1.69249236, -0.11440035,  0.29770336, -0.19632642, -0.11825849]])"
            ]
          },
          "metadata": {},
          "execution_count": 23
        }
      ]
    },
    {
      "cell_type": "code",
      "source": [
        "z1 = np.dot(x,Wxh) + bh"
      ],
      "metadata": {
        "id": "7og285-CAnE2"
      },
      "execution_count": 26,
      "outputs": []
    },
    {
      "cell_type": "code",
      "source": [
        "z1"
      ],
      "metadata": {
        "colab": {
          "base_uri": "https://localhost:8080/"
        },
        "id": "k9_DypNpC8L0",
        "outputId": "38629c21-3121-45b4-886b-fa3f86c3819d"
      },
      "execution_count": 27,
      "outputs": [
        {
          "output_type": "execute_result",
          "data": {
            "text/plain": [
              "array([[-1.69249236, -0.11440035,  0.29770336, -0.19632642, -0.11825849],\n",
              "       [ 0.31863045,  0.31685954, -1.86606512, -0.5738244 , -1.48303203],\n",
              "       [-1.37386192,  0.20245919, -1.56836176, -0.77015082, -1.60129051],\n",
              "       [ 0.        ,  0.        ,  0.        ,  0.        ,  0.        ]])"
            ]
          },
          "metadata": {},
          "execution_count": 27
        }
      ]
    },
    {
      "cell_type": "markdown",
      "source": [
        "**Explaination of Z1**\n",
        "\n",
        "  <h2>Detailed Breakdown of Dot Product</h2>\n",
        "\n",
        "  <table>\n",
        "    <tr>\n",
        "      <th>Element</th>\n",
        "      <th>Calculation</th>\n",
        "      <th>Result</th>\n",
        "    </tr>\n",
        "    <!-- Row 1 -->\n",
        "    <tr>\n",
        "      <td>Result[1,1]</td>\n",
        "      <td>(0 × 0.31863045) + (1 × -1.69249236)</td>\n",
        "      <td>-1.69249236</td>\n",
        "    </tr>\n",
        "    <tr>\n",
        "      <td>Result[1,2]</td>\n",
        "      <td>(0 × 0.31685954) + (1 × -0.11440035)</td>\n",
        "      <td>-0.11440035</td>\n",
        "    </tr>\n",
        "    <tr>\n",
        "      <td>Result[1,3]</td>\n",
        "      <td>(0 × -1.86606512) + (1 × 0.29770336)</td>\n",
        "      <td>0.29770336</td>\n",
        "    </tr>\n",
        "    <tr>\n",
        "      <td>Result[1,4]</td>\n",
        "      <td>(0 × -0.5738244) + (1 × -0.19632642)</td>\n",
        "      <td>-0.19632642</td>\n",
        "    </tr>\n",
        "    <tr>\n",
        "      <td>Result[1,5]</td>\n",
        "      <td>(0 × -1.48303203) + (1 × -0.11825849)</td>\n",
        "      <td>-0.11825849</td>\n",
        "    </tr>\n",
        "    <!-- Row 2 -->\n",
        "    <tr>\n",
        "      <td>Result[2,1]</td>\n",
        "      <td>(1 × 0.31863045) + (0 × -1.69249236)</td>\n",
        "      <td>0.31863045</td>\n",
        "    </tr>\n",
        "    <tr>\n",
        "      <td>Result[2,2]</td>\n",
        "      <td>(1 × 0.31685954) + (0 × -0.11440035)</td>\n",
        "      <td>0.31685954</td>\n",
        "    </tr>\n",
        "    <tr>\n",
        "      <td>Result[2,3]</td>\n",
        "      <td>(1 × -1.86606512) + (0 × 0.29770336)</td>\n",
        "      <td>-1.86606512</td>\n",
        "    </tr>\n",
        "    <tr>\n",
        "      <td>Result[2,4]</td>\n",
        "      <td>(1 × -0.5738244) + (0 × -0.19632642)</td>\n",
        "      <td>-0.5738244</td>\n",
        "    </tr>\n",
        "    <tr>\n",
        "      <td>Result[2,5]</td>\n",
        "      <td>(1 × -1.48303203) + (0 × -0.11825849)</td>\n",
        "      <td>-1.48303203</td>\n",
        "    </tr>\n",
        "    <!-- Row 3 -->\n",
        "    <tr>\n",
        "      <td>Result[3,1]</td>\n",
        "      <td>(1 × 0.31863045) + (1 × -1.69249236)</td>\n",
        "      <td>-1.37386191</td>\n",
        "    </tr>\n",
        "    <tr>\n",
        "      <td>Result[3,2]</td>\n",
        "      <td>(1 × 0.31685954) + (1 × -0.11440035)</td>\n",
        "      <td>0.20245919</td>\n",
        "    </tr>\n",
        "    <tr>\n",
        "      <td>Result[3,3]</td>\n",
        "      <td>(1 × -1.86606512) + (1 × 0.29770336)</td>\n",
        "      <td>-1.56836176</td>\n",
        "    </tr>\n",
        "    <tr>\n",
        "      <td>Result[3,4]</td>\n",
        "      <td>(1 × -0.5738244) + (1 × -0.19632642)</td>\n",
        "      <td>-0.77015082</td>\n",
        "    </tr>\n",
        "    <tr>\n",
        "      <td>Result[3,5]</td>\n",
        "      <td>(1 × -1.48303203) + (1 × -0.11825849)</td>\n",
        "      <td>-1.60129052</td>\n",
        "    </tr>\n",
        "    <!-- Row 4 -->\n",
        "    <tr>\n",
        "      <td>Result[4,1]</td>\n",
        "      <td>(0 × 0.31863045) + (0 × -1.69249236)</td>\n",
        "      <td>0</td>\n",
        "    </tr>\n",
        "    <tr>\n",
        "      <td>Result[4,2]</td>\n",
        "      <td>(0 × 0.31685954) + (0 × -0.11440035)</td>\n",
        "      <td>0</td>\n",
        "    </tr>\n",
        "    <tr>\n",
        "      <td>Result[4,3]</td>\n",
        "      <td>(0 × -1.86606512) + (0 × 0.29770336)</td>\n",
        "      <td>0</td>\n",
        "    </tr>\n",
        "    <tr>\n",
        "      <td>Result[4,4]</td>\n",
        "      <td>(0 × -0.5738244) + (0 × -0.19632642)</td>\n",
        "      <td>0</td>\n",
        "    </tr>\n",
        "    <tr>\n",
        "      <td>Result[4,5]</td>\n",
        "      <td>(0 × -1.48303203) + (0 × -0.11825849)</td>\n",
        "      <td>0</td>\n",
        "    </tr>\n",
        "  </table>"
      ],
      "metadata": {
        "id": "5gO5QruNHepR"
      }
    },
    {
      "cell_type": "code",
      "source": [],
      "metadata": {
        "id": "BJE-xv6aHeC7"
      },
      "execution_count": null,
      "outputs": []
    },
    {
      "cell_type": "code",
      "source": [
        "a1 = sigmoid(z1)"
      ],
      "metadata": {
        "id": "LHy--yMICU6l"
      },
      "execution_count": 36,
      "outputs": []
    },
    {
      "cell_type": "code",
      "source": [
        "a1"
      ],
      "metadata": {
        "colab": {
          "base_uri": "https://localhost:8080/"
        },
        "id": "qFb03h1UC-Vm",
        "outputId": "60799ac5-f004-4824-8e93-d6950a3ad24a"
      },
      "execution_count": 37,
      "outputs": [
        {
          "output_type": "execute_result",
          "data": {
            "text/plain": [
              "array([[0.15544835, 0.47143106, 0.57388099, 0.45107544, 0.47046979],\n",
              "       [0.57899045, 0.57855871, 0.13399768, 0.36035483, 0.18496989],\n",
              "       [0.20199661, 0.55044261, 0.17245006, 0.31644648, 0.16780133],\n",
              "       [0.5       , 0.5       , 0.5       , 0.5       , 0.5       ]])"
            ]
          },
          "metadata": {},
          "execution_count": 37
        }
      ]
    },
    {
      "cell_type": "code",
      "source": [
        "Why"
      ],
      "metadata": {
        "colab": {
          "base_uri": "https://localhost:8080/"
        },
        "id": "N60eU9Y3Iuq1",
        "outputId": "e9ff1403-856a-48a8-c14c-598c8f17e515"
      },
      "execution_count": 38,
      "outputs": [
        {
          "output_type": "execute_result",
          "data": {
            "text/plain": [
              "array([[0.72947875],\n",
              "       [0.23643936],\n",
              "       [0.35256838],\n",
              "       [1.01882628],\n",
              "       [1.82682994]])"
            ]
          },
          "metadata": {},
          "execution_count": 38
        }
      ]
    },
    {
      "cell_type": "code",
      "source": [
        "z2 = np.dot(a1,Why) + by"
      ],
      "metadata": {
        "id": "bAuZg3t3C_sD"
      },
      "execution_count": 43,
      "outputs": []
    },
    {
      "cell_type": "code",
      "source": [
        "z2"
      ],
      "metadata": {
        "colab": {
          "base_uri": "https://localhost:8080/"
        },
        "id": "ydBn6xviDIch",
        "outputId": "8d75699a-587f-42a2-fb98-143325e0b713"
      },
      "execution_count": 33,
      "outputs": [
        {
          "output_type": "execute_result",
          "data": {
            "text/plain": [
              "array([[1.74622922],\n",
              "       [1.31144612],\n",
              "       [0.96724745],\n",
              "       [2.08207136]])"
            ]
          },
          "metadata": {},
          "execution_count": 33
        }
      ]
    },
    {
      "cell_type": "markdown",
      "source": [
        " <h2>Detailed Breakdown of Dot Product</h2>\n",
        "\n",
        "  <table>\n",
        "    <tr>\n",
        "      <th>Element</th>\n",
        "      <th>Calculation</th>\n",
        "      <th>Result</th>\n",
        "    </tr>\n",
        "    <!-- Row 1 -->\n",
        "    <tr>\n",
        "      <td>Result[1,1]</td>\n",
        "      <td>(0.15544835 * 0.72947875) + (0.47143106 * 0.23643936) + (0.57388099 * 0.35256838) + (0.45107544 * 1.01882628) + (0.47046979 * 1.82682994)</td>\n",
        "      <td>Result[1,1] Result</td>\n",
        "    </tr>\n",
        "    <!-- Row 2 -->\n",
        "    <tr>\n",
        "      <td>Result[2,1]</td>\n",
        "      <td>(0.57899045 * 0.72947875) + (0.57855871 * 0.23643936) + (0.13399768 * 0.35256838) + (0.36035483 * 1.01882628) + (0.18496989 * 1.82682994)</td>\n",
        "      <td>Result[2,1] Result</td>\n",
        "    </tr>\n",
        "    <!-- Row 3 -->\n",
        "    <tr>\n",
        "      <td>Result[3,1]</td>\n",
        "      <td>(0.20199661 * 0.72947875) + (0.55044261 * 0.23643936) + (0.17245006 * 0.35256838) + (0.31644648 * 1.01882628) + (0.16780133 * 1.82682994)</td>\n",
        "      <td>Result[3,1] Result</td>\n",
        "    </tr>\n",
        "    <!-- Row 4 -->\n",
        "    <tr>\n",
        "      <td>Result[4,1]</td>\n",
        "      <td>(0.5 * 0.72947875) + (0.5 * 0.23643936) + (0.5 * 0.35256838) + (0.5 * 1.01882628) + (0.5 * 1.82682994)</td>\n",
        "      <td>Result[4,1] Result</td>\n",
        "    </tr>\n",
        "  </table>"
      ],
      "metadata": {
        "id": "YX7vFEboJZ0c"
      }
    },
    {
      "cell_type": "code",
      "source": [
        "y_hat"
      ],
      "metadata": {
        "colab": {
          "base_uri": "https://localhost:8080/"
        },
        "id": "IKs86Y-gJorS",
        "outputId": "5c3fbfa4-0b26-40cd-86ae-4231dc747a9d"
      },
      "execution_count": 40,
      "outputs": [
        {
          "output_type": "execute_result",
          "data": {
            "text/plain": [
              "array([[0.85147657],\n",
              "       [0.78775504],\n",
              "       [0.72457052],\n",
              "       [0.88914836]])"
            ]
          },
          "metadata": {},
          "execution_count": 40
        }
      ]
    },
    {
      "cell_type": "code",
      "source": [
        " y_hat = sigmoid(z2)"
      ],
      "metadata": {
        "id": "XYdBks3iC_p8"
      },
      "execution_count": 44,
      "outputs": []
    },
    {
      "cell_type": "code",
      "source": [
        "y_hat"
      ],
      "metadata": {
        "colab": {
          "base_uri": "https://localhost:8080/"
        },
        "id": "8akkx1D5DpJ2",
        "outputId": "72360bab-6c3b-4c48-e47c-0b3e9736c63b"
      },
      "execution_count": 45,
      "outputs": [
        {
          "output_type": "execute_result",
          "data": {
            "text/plain": [
              "array([[0.85147657],\n",
              "       [0.78775504],\n",
              "       [0.72457052],\n",
              "       [0.88914836]])"
            ]
          },
          "metadata": {},
          "execution_count": 45
        }
      ]
    },
    {
      "cell_type": "code",
      "source": [
        "delta2 = np.multiply(-(y-y_hat),sigmoid_derivative(z2))\n",
        "dJ_dWhy = np.dot(a1.T, delta2)\n",
        "delta1 = np.dot(delta2,Why.T)*sigmoid_derivative(z1)\n",
        "dJ_dWxh = np.dot(x.T, delta1)"
      ],
      "metadata": {
        "id": "mkVNXHP2Ecgx"
      },
      "execution_count": 46,
      "outputs": []
    },
    {
      "cell_type": "code",
      "source": [
        "dJ_dWxh"
      ],
      "metadata": {
        "colab": {
          "base_uri": "https://localhost:8080/"
        },
        "id": "bTOKmKUVKs2h",
        "outputId": "28dfba4c-2ad5-46c0-acd3-9e4e4da91f2f"
      },
      "execution_count": 51,
      "outputs": [
        {
          "output_type": "execute_result",
          "data": {
            "text/plain": [
              "array([[0.01069312, 0.00641452, 0.0058238 , 0.0235336 , 0.02711536],\n",
              "       [0.01520448, 0.00735373, 0.00565625, 0.02712893, 0.02834024]])"
            ]
          },
          "metadata": {},
          "execution_count": 51
        }
      ]
    },
    {
      "cell_type": "code",
      "source": [
        "dJ_dWhy"
      ],
      "metadata": {
        "colab": {
          "base_uri": "https://localhost:8080/"
        },
        "id": "CHt0yibJKKya",
        "outputId": "4f1b37a9-e0c5-415c-c1b1-af6f6b5bed31"
      },
      "execution_count": 48,
      "outputs": [
        {
          "output_type": "execute_result",
          "data": {
            "text/plain": [
              "array([[0.04956151],\n",
              "       [0.09402745],\n",
              "       [0.053221  ],\n",
              "       [0.06831702],\n",
              "       [0.05268231]])"
            ]
          },
          "metadata": {},
          "execution_count": 48
        }
      ]
    },
    {
      "cell_type": "markdown",
      "metadata": {
        "id": "fJlfRCFqpkFl"
      },
      "source": [
        "Now let's start training the network:"
      ]
    },
    {
      "cell_type": "code",
      "execution_count": 17,
      "metadata": {
        "collapsed": true,
        "id": "gfTwYE4ipkFl",
        "outputId": "3e731ee5-b6e7-498c-a9c7-648ea94aeabb",
        "colab": {
          "base_uri": "https://localhost:8080/"
        }
      },
      "outputs": [
        {
          "output_type": "stream",
          "name": "stdout",
          "text": [
            "Iteration:  0 ----------------------------------------------------------------------------------------------------------\n",
            "#perform forward propagation and predict output: \n",
            "z1 =  [[-1.69218787 -0.11425237  0.29781683 -0.19578298 -0.11769065]\n",
            " [ 0.31884485  0.31698865 -1.86594834 -0.57335283 -1.48248882]\n",
            " [-1.37334302  0.20273628 -1.56813151 -0.76913582 -1.60017947]\n",
            " [ 0.          0.          0.          0.          0.        ]]\n",
            "a1 =  [[0.15548833 0.47146794 0.57390874 0.45121    0.47061125]\n",
            " [0.57904271 0.57859019 0.13401123 0.36046354 0.18505179]\n",
            " [0.20208027 0.55051118 0.17248292 0.31666608 0.16795653]\n",
            " [0.5        0.5        0.5        0.5        0.5       ]]\n",
            "z2 =  [[1.74943605]\n",
            " [1.3142489 ]\n",
            " [0.96987224]\n",
            " [2.0852491 ]]\n",
            "y_hat =  [[0.85188166]\n",
            " [0.78822328]\n",
            " [0.72509403]\n",
            " [0.88946118]]\n",
            "#perform backward propagation and calculate gradients: \n",
            "dJ_dWxh =  [[0.01072944 0.00646931 0.00584457 0.02359318 0.02717531]\n",
            " [0.01523119 0.00741361 0.00567918 0.02718594 0.02840918]]\n",
            "dJ_dWhy =  [[0.04955764]\n",
            " [0.09402859]\n",
            " [0.05319219]\n",
            " [0.06831948]\n",
            " [0.05266419]]\n",
            "#update the weights: \n",
            "Wxh =  [[ 0.31873756  0.31692396 -1.86600678 -0.57358876 -1.48276057]\n",
            " [-1.69234019 -0.11432651  0.29776004 -0.19605484 -0.11797474]]\n",
            "Why =  [[0.72997434]\n",
            " [0.23737964]\n",
            " [0.35310045]\n",
            " [1.01950946]\n",
            " [1.82735667]]\n",
            "#compute cost: \n",
            "cost =  [0.69184548]\n",
            "Iteration:  1 ----------------------------------------------------------------------------------------------------------\n",
            "#perform forward propagation and predict output: \n",
            "z1 =  [[-1.69234019 -0.11432651  0.29776004 -0.19605484 -0.11797474]\n",
            " [ 0.31873756  0.31692396 -1.86600678 -0.57358876 -1.48276057]\n",
            " [-1.37360263  0.20259745 -1.56824674 -0.76964361 -1.60073531]\n",
            " [ 0.          0.          0.          0.          0.        ]]\n",
            "a1 =  [[0.15546833 0.47144946 0.57389485 0.45114268 0.47054048]\n",
            " [0.57901655 0.57857441 0.13400445 0.36040915 0.18501081]\n",
            " [0.20203841 0.55047682 0.17246648 0.31655621 0.16787887]\n",
            " [0.5        0.5        0.5        0.5        0.5       ]]\n",
            "z2 =  [[1.74783244]\n",
            " [1.31284733]\n",
            " [0.96855946]\n",
            " [2.08366028]]\n",
            "y_hat =  [[0.8516792 ]\n",
            " [0.78798923]\n",
            " [0.72483227]\n",
            " [0.88930487]]\n",
            "#perform backward propagation and calculate gradients: \n",
            "dJ_dWxh =  [[0.01071128 0.00644192 0.00583419 0.0235634  0.02714536]\n",
            " [0.01521785 0.00738367 0.00566772 0.02715746 0.02837474]]\n",
            "dJ_dWhy =  [[0.04955961]\n",
            " [0.09402809]\n",
            " [0.05320663]\n",
            " [0.06831829]\n",
            " [0.05267327]]\n",
            "#update the weights: \n",
            "Wxh =  [[ 0.31863045  0.31685954 -1.86606512 -0.5738244  -1.48303203]\n",
            " [-1.69249236 -0.11440035  0.29770336 -0.19632642 -0.11825849]]\n",
            "Why =  [[0.72947875]\n",
            " [0.23643936]\n",
            " [0.35256838]\n",
            " [1.01882628]\n",
            " [1.82682994]]\n",
            "#compute cost: \n",
            "cost =  [0.6915963]\n"
          ]
        }
      ],
      "source": [
        "cost = []\n",
        "for i in range(num_iterations):\n",
        "\n",
        "    #perform forward propagation and predict output\n",
        "    z1,a1,z2,y_hat = forward_prop(x,Wxh,Why)\n",
        "    print(\"Iteration: \", i,\"----------------------------------------------------------------------------------------------------------\")\n",
        "\n",
        "    print(\"#perform forward propagation and predict output: \")\n",
        "    print(\"z1 = \",z1)\n",
        "    print(\"a1 = \",a1)\n",
        "    print(\"z2 = \",z2)\n",
        "    print(\"y_hat = \",y_hat)\n",
        "\n",
        "    #perform backward propagation and calculate gradients\n",
        "    dJ_dWxh, dJ_dWhy = backword_prop(y_hat, z1, a1, z2)\n",
        "    print(\"#perform backward propagation and calculate gradients: \")\n",
        "    print(\"dJ_dWxh = \",dJ_dWxh)\n",
        "    print(\"dJ_dWhy = \",dJ_dWhy)\n",
        "\n",
        "\n",
        "    #update the weights\n",
        "    Wxh = Wxh -alpha * dJ_dWxh\n",
        "    Why = Why -alpha * dJ_dWhy\n",
        "\n",
        "    print(\"#update the weights: \")\n",
        "    print(\"Wxh = \",Wxh)\n",
        "    print(\"Why = \",Why)\n",
        "\n",
        "    #compute cost\n",
        "    c = cost_function(y, y_hat)\n",
        "    print(\"#compute cost: \")\n",
        "    print(\"cost = \",c)\n",
        "\n",
        "    #store the cost\n",
        "    cost.append(c)"
      ]
    },
    {
      "cell_type": "code",
      "source": [
        "z1.shape"
      ],
      "metadata": {
        "colab": {
          "base_uri": "https://localhost:8080/"
        },
        "id": "7Q7v8wib-vp-",
        "outputId": "487fbec0-776d-4e82-a151-40cc9c06118c"
      },
      "execution_count": 20,
      "outputs": [
        {
          "output_type": "execute_result",
          "data": {
            "text/plain": [
              "(4, 5)"
            ]
          },
          "metadata": {},
          "execution_count": 20
        }
      ]
    },
    {
      "cell_type": "markdown",
      "metadata": {
        "id": "Y6qXJMlCpkFm"
      },
      "source": [
        "Plot the cost function:"
      ]
    },
    {
      "cell_type": "code",
      "execution_count": null,
      "metadata": {
        "scrolled": true,
        "id": "9ifNw0TxpkFm",
        "outputId": "a6300ed1-52f6-4068-9ad2-e7d4d5bbe5e7",
        "colab": {
          "base_uri": "https://localhost:8080/",
          "height": 489
        }
      },
      "outputs": [
        {
          "output_type": "execute_result",
          "data": {
            "text/plain": [
              "Text(0, 0.5, 'Cost')"
            ]
          },
          "metadata": {},
          "execution_count": 22
        },
        {
          "output_type": "display_data",
          "data": {
            "text/plain": [
              "<Figure size 640x480 with 1 Axes>"
            ],
            "image/png": "[encoded data removed]"
          },
          "metadata": {}
        }
      ],
      "source": [
        "plt.grid()\n",
        "plt.plot(range(num_iterations),cost)\n",
        "\n",
        "plt.title('Cost Function')\n",
        "plt.xlabel('Training Iterations')\n",
        "plt.ylabel('Cost')"
      ]
    },
    {
      "cell_type": "markdown",
      "metadata": {
        "id": "Vv63owWqpkFn"
      },
      "source": [
        "As you can notice, the loss decreases over the training iterations.\n",
        "\n",
        "\n",
        "Thus, we have learned how to build a neural network from scratch in the next chapter we will one of the popularly used deep learning libraries called TensorFlow."
      ]
    }
  ],
  "metadata": {
    "kernelspec": {
      "display_name": "Python [default]",
      "language": "python",
      "name": "python2"
    },
    "language_info": {
      "codemirror_mode": {
        "name": "ipython",
        "version": 2
      },
      "file_extension": ".py",
      "mimetype": "text/x-python",
      "name": "python",
      "nbconvert_exporter": "python",
      "pygments_lexer": "ipython2",
      "version": "2.7.11"
    },
    "colab": {
      "provenance": [],
      "include_colab_link": true
    }
  },
  "nbformat": 4,
  "nbformat_minor": 0
}