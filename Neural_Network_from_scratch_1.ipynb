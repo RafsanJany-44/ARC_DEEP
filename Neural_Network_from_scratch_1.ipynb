{
  "nbformat": 4,
  "nbformat_minor": 0,
  "metadata": {
    "colab": {
      "provenance": [],
      "authorship_tag": "ABX9TyMzy+V2FR7g2taYM/1GuJ63",
      "include_colab_link": true
    },
    "kernelspec": {
      "name": "python3",
      "display_name": "Python 3"
    },
    "language_info": {
      "name": "python"
    }
  },
  "cells": [
    {
      "cell_type": "markdown",
      "metadata": {
        "id": "view-in-github",
        "colab_type": "text"
      },
      "source": [
        "<a href=\"https://colab.research.google.com/github/RafsanJany-44/ARC_DEEP/blob/main/Neural_Network_from_scratch_1.ipynb\" target=\"_parent\"><img src=\"https://colab.research.google.com/assets/colab-badge.svg\" alt=\"Open In Colab\"/></a>"
      ]
    },
    {
      "cell_type": "markdown",
      "source": [
        "#All function"
      ],
      "metadata": {
        "id": "vmFUa6HAVQVS"
      }
    },
    {
      "cell_type": "code",
      "execution_count": 2,
      "metadata": {
        "id": "HelYJcX4Uw4g"
      },
      "outputs": [],
      "source": [
        "def sigmoid(z):\n",
        "    return 1 / (1+np.exp(-z))\n",
        "\n",
        "\n",
        "\n",
        "def sigmoid_derivative(z):\n",
        "    return np.exp(-z)/((1+np.exp(-z))**2)\n",
        "\n",
        "\n",
        "def forward_prop(x,Wxh,Why):\n",
        "    z1 = np.dot(x,Wxh) + bh\n",
        "    a1 = sigmoid(z1)\n",
        "    z2 = np.dot(a1,Why) + by\n",
        "    y_hat = sigmoid(z2)\n",
        "\n",
        "    return z1,a1,z2,y_hat\n",
        "\n",
        "\n",
        "def backword_prop(y_hat, z1, a1, z2):\n",
        "    delta2 = np.multiply(-(y-y_hat),sigmoid_derivative(z2))\n",
        "    dJ_dWhy = np.dot(a1.T, delta2)\n",
        "    delta1 = np.dot(delta2,Why.T)*sigmoid_derivative(z1)\n",
        "    dJ_dWxh = np.dot(x.T, delta1)\n",
        "\n",
        "    return dJ_dWxh, dJ_dWhy\n",
        "\n",
        "def cost_function(y, y_hat):\n",
        "    J = 0.5*sum((y-y_hat)**2)\n",
        "    return J\n",
        "\n",
        "\n",
        "\n",
        "\n",
        "def dot_product_breakdown(matrix_a, matrix_b):\n",
        "    # Check if matrices are compatible for dot product\n",
        "    if matrix_a.shape[1] != matrix_b.shape[0]:\n",
        "        print(\"Error: Incompatible matrices for dot product.\")\n",
        "        return\n",
        "\n",
        "    # Calculate the dot product\n",
        "    result = np.dot(matrix_a, matrix_b)\n",
        "\n",
        "    # Print the detailed breakdown in the console\n",
        "    print(\"Detailed Breakdown of Dot Product:\")\n",
        "    print(\"===================================\")\n",
        "    print(\" Element   |   Calculation                    |   Result\")\n",
        "    print(\"------------|----------------------------------|------------------\")\n",
        "\n",
        "    # Iterate through each element in the resulting matrix\n",
        "    for k in range(result.shape[1]):\n",
        "      for i in range(result.shape[0]):\n",
        "          calculation = \" + \".join([f\"({matrix_a[i, j]} * {matrix_b[j, k]})\" for j in range(matrix_a.shape[1])])\n",
        "          print(f\" Result[{i + 1},1] |   {calculation}   |   {result[i, k]}\")\n",
        "\n",
        "    print(\"===================================\")"
      ]
    },
    {
      "cell_type": "markdown",
      "source": [
        "# Requirements"
      ],
      "metadata": {
        "id": "MKlwQZ-2Vo7i"
      }
    },
    {
      "cell_type": "code",
      "source": [
        "import numpy as np\n",
        "import matplotlib.pyplot as plt\n",
        "%matplotlib inline"
      ],
      "metadata": {
        "id": "nnelulN9Vovw"
      },
      "execution_count": 1,
      "outputs": []
    },
    {
      "cell_type": "markdown",
      "source": [
        "#Design\n",
        "\n",
        "Putting all the concepts we have learned so far, we will see how to build a neural network\n",
        "from scratch. We will learn how the neural network learns to perform the XOR gate\n",
        "operation. The XOR gate returns 1 only when exactly only one of its inputs is 1 else it returns 0 as shown in\n",
        "the following figure:\n",
        "\n",
        "![image](https://github.com/PacktPublishing/Hands-On-Deep-Learning-Algorithms-with-Python/blob/master/Chapter01/images/1.png?raw=1)\n",
        "\n",
        "\n",
        "To perform the XOR gate operation, we build a simple two-layer neural network as shown\n",
        "in the following figure. As you can observe, we have an input layer with two nodes, a\n",
        "hidden layer with five nodes and an output layers which consist of 1 node:\n",
        "\n",
        "\n",
        "![image](https://github.com/PacktPublishing/Hands-On-Deep-Learning-Algorithms-with-Python/blob/master/Chapter01/images/2.png?raw=1)\n"
      ],
      "metadata": {
        "id": "WSxy4yMnVyLk"
      }
    },
    {
      "cell_type": "markdown",
      "source": [
        "#Define dataset"
      ],
      "metadata": {
        "id": "LSvd4XpyWJJx"
      }
    },
    {
      "cell_type": "code",
      "source": [
        "#x = np.array([ [0], [1], [1],[0]])\n",
        "\n",
        "\n",
        "x = np.array([ [0,1], [1,0], [1,1],[0,0]])\n",
        "y = np.array([ [1], [1], [0], [0]])"
      ],
      "metadata": {
        "id": "NTeLPFVVVotZ"
      },
      "execution_count": 3,
      "outputs": []
    },
    {
      "cell_type": "markdown",
      "source": [
        "#Define the number of nodes in each layer:"
      ],
      "metadata": {
        "id": "zyr8ssZ6WPIO"
      }
    },
    {
      "cell_type": "code",
      "source": [
        "num_input_nuron = x.shape[1]\n",
        "num_hidden_neuron = 5\n",
        "num_output_neuron = 1"
      ],
      "metadata": {
        "id": "Z44PbHN5VorG"
      },
      "execution_count": 4,
      "outputs": []
    },
    {
      "cell_type": "markdown",
      "source": [
        "#Initialize weights and bias randomly. First, we initialize, input to hidden layer weights:"
      ],
      "metadata": {
        "id": "O8ZKBT6HWSX9"
      }
    },
    {
      "cell_type": "code",
      "source": [
        "Wxh = np.random.randn(num_input_nuron,num_hidden_neuron)\n",
        "bh = np.zeros((1,num_hidden_neuron))"
      ],
      "metadata": {
        "id": "X6Opur2NVoox"
      },
      "execution_count": 5,
      "outputs": []
    },
    {
      "cell_type": "code",
      "source": [
        "Wxh,bh"
      ],
      "metadata": {
        "colab": {
          "base_uri": "https://localhost:8080/"
        },
        "id": "HvSi5oETVomU",
        "outputId": "af9eaf6d-1c1c-421f-edbd-d921eae3eda6"
      },
      "execution_count": 6,
      "outputs": [
        {
          "output_type": "execute_result",
          "data": {
            "text/plain": [
              "(array([[ 0.11504582,  0.21389847, -1.10702661, -0.58049586,  0.29216823],\n",
              "        [ 0.22818819,  0.40889456, -0.14985501, -0.65731402,  1.56974901]]),\n",
              " array([[0., 0., 0., 0., 0.]]))"
            ]
          },
          "metadata": {},
          "execution_count": 6
        }
      ]
    },
    {
      "cell_type": "markdown",
      "source": [
        "#Now initialize, hidden to output layer weights:"
      ],
      "metadata": {
        "id": "jbgiriE6WdTq"
      }
    },
    {
      "cell_type": "code",
      "source": [
        "Why = np.random.randn (num_input_nuron,num_hidden_neuron)\n",
        "by = np.zeros((1,num_output_neuron))"
      ],
      "metadata": {
        "id": "gXHQAGiBVoj_"
      },
      "execution_count": 7,
      "outputs": []
    },
    {
      "cell_type": "code",
      "source": [
        "Why, by"
      ],
      "metadata": {
        "colab": {
          "base_uri": "https://localhost:8080/"
        },
        "id": "9Eq7-qUbVohi",
        "outputId": "ba8a62b2-0354-427f-a0e4-2fd44752458c"
      },
      "execution_count": 8,
      "outputs": [
        {
          "output_type": "execute_result",
          "data": {
            "text/plain": [
              "(array([[ 0.3969645 ],\n",
              "        [ 0.9729442 ],\n",
              "        [ 0.07122377],\n",
              "        [ 1.51936219],\n",
              "        [-0.56504529]]),\n",
              " array([[0.]]))"
            ]
          },
          "metadata": {},
          "execution_count": 8
        }
      ]
    },
    {
      "cell_type": "markdown",
      "source": [
        "#Set the learning rate and number of training iterations:"
      ],
      "metadata": {
        "id": "MSdZ5mOmWoZA"
      }
    },
    {
      "cell_type": "code",
      "source": [
        "alpha = 0.01\n",
        "num_iterations = 5000"
      ],
      "metadata": {
        "id": "t7iRqj-VWl91"
      },
      "execution_count": 9,
      "outputs": []
    },
    {
      "cell_type": "markdown",
      "source": [
        "#Now let's start training the network:"
      ],
      "metadata": {
        "id": "zdEQMumAWvtM"
      }
    },
    {
      "cell_type": "code",
      "source": [
        "%%capture\n",
        "cost = []\n",
        "for i in range(num_iterations):\n",
        "\n",
        "    #perform forward propagation and predict output\n",
        "    z1,a1,z2,y_hat = forward_prop(x,Wxh,Why)\n",
        "    print(\"Iteration: \", i,\"----------------------------------------------------------------------------------------------------------\")\n",
        "\n",
        "    print(\"#perform forward propagation and predict output: \")\n",
        "    print(\"z1 = \",z1)\n",
        "    print(\"a1 = \",a1)\n",
        "    print(\"z2 = \",z2)\n",
        "    print(\"y_hat = \",y_hat)\n",
        "\n",
        "    #perform backward propagation and calculate gradients\n",
        "    dJ_dWxh, dJ_dWhy = backword_prop(y_hat, z1, a1, z2)\n",
        "    print(\"#perform backward propagation and calculate gradients: \")\n",
        "    print(\"dJ_dWxh = \",dJ_dWxh)\n",
        "    print(\"dJ_dWhy = \",dJ_dWhy)\n",
        "\n",
        "\n",
        "    #update the weights\n",
        "    Wxh = Wxh -alpha * dJ_dWxh\n",
        "    Why = Why -alpha * dJ_dWhy\n",
        "\n",
        "    print(\"#update the weights: \")\n",
        "    print(\"Wxh = \",Wxh)\n",
        "    print(\"Why = \",Why)\n",
        "\n",
        "    #compute cost\n",
        "    c = cost_function(y, y_hat)\n",
        "    print(\"#compute cost: \")\n",
        "    print(\"cost = \",c)\n",
        "\n",
        "    #store the cost\n",
        "    cost.append(c)"
      ],
      "metadata": {
        "id": "dG0goiCYWl7f"
      },
      "execution_count": 10,
      "outputs": []
    },
    {
      "cell_type": "code",
      "source": [
        "plt.grid()\n",
        "plt.plot(range(num_iterations),cost)\n",
        "\n",
        "plt.title('Cost Function')\n",
        "plt.xlabel('Training Iterations')\n",
        "plt.ylabel('Cost')"
      ],
      "metadata": {
        "colab": {
          "base_uri": "https://localhost:8080/",
          "height": 489
        },
        "id": "PP8j2DUyWl5X",
        "outputId": "5b322228-9a5c-48a5-fa52-eb0260ffdd54"
      },
      "execution_count": 11,
      "outputs": [
        {
          "output_type": "execute_result",
          "data": {
            "text/plain": [
              "Text(0, 0.5, 'Cost')"
            ]
          },
          "metadata": {},
          "execution_count": 11
        },
        {
          "output_type": "display_data",
          "data": {
            "text/plain": [
              "<Figure size 640x480 with 1 Axes>"
            ],
            "image/png": "[encoded data removed]"
          },
          "metadata": {}
        }
      ]
    },
    {
      "cell_type": "markdown",
      "source": [
        "#details"
      ],
      "metadata": {
        "id": "9txVtCMnVLYy"
      }
    },
    {
      "cell_type": "code",
      "source": [
        "x = np.array([ [0,1], [1,0], [1,1],[0,0]])\n",
        "y = np.array([ [1], [1], [0], [0]])\n",
        "\n",
        "\n",
        "num_input_neuron = x.shape[1]\n",
        "num_hidden_neuron = 5\n",
        "num_output_neuron = 1"
      ],
      "metadata": {
        "id": "fZ9TmHkaWl3E"
      },
      "execution_count": 3,
      "outputs": []
    },
    {
      "cell_type": "code",
      "source": [
        "Wxh = np.random.randn(num_input_neuron,num_hidden_neuron)\n",
        "bh = np.zeros((1,num_hidden_neuron))"
      ],
      "metadata": {
        "id": "9-rjFRjfWl0x"
      },
      "execution_count": 4,
      "outputs": []
    },
    {
      "cell_type": "code",
      "source": [
        "Why = np.random.randn (num_hidden_neuron,num_output_neuron)\n",
        "by = np.zeros((1,num_output_neuron))"
      ],
      "metadata": {
        "id": "s8F3aY2WWlyU"
      },
      "execution_count": 5,
      "outputs": []
    },
    {
      "cell_type": "code",
      "source": [
        "z1,a1,z2,y_hat = forward_prop(x,Wxh,Why)\n",
        "dJ_dWxh, dJ_dWhy = backword_prop(y_hat, z1, a1, z2)"
      ],
      "metadata": {
        "id": "39oLi8hdZW3w"
      },
      "execution_count": 6,
      "outputs": []
    },
    {
      "cell_type": "code",
      "source": [
        "x,Wxh,Why"
      ],
      "metadata": {
        "id": "-D3HtzEsZ_AI",
        "outputId": "c6be8f1b-326a-45fa-c0eb-de558ebe169c",
        "colab": {
          "base_uri": "https://localhost:8080/"
        }
      },
      "execution_count": 8,
      "outputs": [
        {
          "output_type": "execute_result",
          "data": {
            "text/plain": [
              "(array([[0, 1],\n",
              "        [1, 0],\n",
              "        [1, 1],\n",
              "        [0, 0]]),\n",
              " array([[-0.47954065,  0.20615306,  1.23495644,  0.46804693, -0.49312533],\n",
              "        [ 0.5611691 , -0.03092361, -1.99684944,  0.62336978,  0.73940902]]),\n",
              " array([[ 0.28341541],\n",
              "        [-0.30764751],\n",
              "        [-0.63190145],\n",
              "        [ 1.29136923],\n",
              "        [ 0.20140833]]))"
            ]
          },
          "metadata": {},
          "execution_count": 8
        }
      ]
    },
    {
      "cell_type": "code",
      "source": [
        " dot_product_breakdown(x, Wxh)"
      ],
      "metadata": {
        "id": "DDUHzTovWlwD",
        "outputId": "55ce1050-9220-4586-a1ef-c0da9cf837c8",
        "colab": {
          "base_uri": "https://localhost:8080/"
        }
      },
      "execution_count": 9,
      "outputs": [
        {
          "output_type": "stream",
          "name": "stdout",
          "text": [
            "Detailed Breakdown of Dot Product:\n",
            "===================================\n",
            " Element   |   Calculation                    |   Result\n",
            "------------|----------------------------------|------------------\n",
            " Result[1,1] |   (0 * -0.4795406457863602) + (1 * 0.5611690971371517)   |   0.5611690971371517\n",
            " Result[2,1] |   (1 * -0.4795406457863602) + (0 * 0.5611690971371517)   |   -0.4795406457863602\n",
            " Result[3,1] |   (1 * -0.4795406457863602) + (1 * 0.5611690971371517)   |   0.0816284513507915\n",
            " Result[4,1] |   (0 * -0.4795406457863602) + (0 * 0.5611690971371517)   |   0.0\n",
            " Result[1,1] |   (0 * 0.20615305691793048) + (1 * -0.03092361364834478)   |   -0.03092361364834478\n",
            " Result[2,1] |   (1 * 0.20615305691793048) + (0 * -0.03092361364834478)   |   0.20615305691793048\n",
            " Result[3,1] |   (1 * 0.20615305691793048) + (1 * -0.03092361364834478)   |   0.1752294432695857\n",
            " Result[4,1] |   (0 * 0.20615305691793048) + (0 * -0.03092361364834478)   |   0.0\n",
            " Result[1,1] |   (0 * 1.2349564375341873) + (1 * -1.9968494355298494)   |   -1.9968494355298494\n",
            " Result[2,1] |   (1 * 1.2349564375341873) + (0 * -1.9968494355298494)   |   1.2349564375341873\n",
            " Result[3,1] |   (1 * 1.2349564375341873) + (1 * -1.9968494355298494)   |   -0.7618929979956621\n",
            " Result[4,1] |   (0 * 1.2349564375341873) + (0 * -1.9968494355298494)   |   0.0\n",
            " Result[1,1] |   (0 * 0.46804693306640843) + (1 * 0.6233697781990648)   |   0.6233697781990648\n",
            " Result[2,1] |   (1 * 0.46804693306640843) + (0 * 0.6233697781990648)   |   0.46804693306640843\n",
            " Result[3,1] |   (1 * 0.46804693306640843) + (1 * 0.6233697781990648)   |   1.0914167112654733\n",
            " Result[4,1] |   (0 * 0.46804693306640843) + (0 * 0.6233697781990648)   |   0.0\n",
            " Result[1,1] |   (0 * -0.4931253261034169) + (1 * 0.7394090245612822)   |   0.7394090245612822\n",
            " Result[2,1] |   (1 * -0.4931253261034169) + (0 * 0.7394090245612822)   |   -0.4931253261034169\n",
            " Result[3,1] |   (1 * -0.4931253261034169) + (1 * 0.7394090245612822)   |   0.2462836984578653\n",
            " Result[4,1] |   (0 * -0.4931253261034169) + (0 * 0.7394090245612822)   |   0.0\n",
            "===================================\n"
          ]
        }
      ]
    },
    {
      "cell_type": "code",
      "source": [],
      "metadata": {
        "id": "Rnh8BUL9aJtX"
      },
      "execution_count": null,
      "outputs": []
    }
  ]
}