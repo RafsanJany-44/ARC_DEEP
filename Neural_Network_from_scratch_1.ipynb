{
  "nbformat": 4,
  "nbformat_minor": 0,
  "metadata": {
    "colab": {
      "provenance": [],
      "authorship_tag": "ABX9TyOS5IvKIHrak7BhDlwkCdGJ",
      "include_colab_link": true
    },
    "kernelspec": {
      "name": "python3",
      "display_name": "Python 3"
    },
    "language_info": {
      "name": "python"
    }
  },
  "cells": [
    {
      "cell_type": "markdown",
      "metadata": {
        "id": "view-in-github",
        "colab_type": "text"
      },
      "source": [
        "<a href=\"https://colab.research.google.com/github/RafsanJany-44/ARC_DEEP/blob/main/Neural_Network_from_scratch_1.ipynb\" target=\"_parent\"><img src=\"https://colab.research.google.com/assets/colab-badge.svg\" alt=\"Open In Colab\"/></a>"
      ]
    },
    {
      "cell_type": "markdown",
      "source": [
        "#All function"
      ],
      "metadata": {
        "id": "vmFUa6HAVQVS"
      }
    },
    {
      "cell_type": "code",
      "execution_count": 2,
      "metadata": {
        "id": "HelYJcX4Uw4g"
      },
      "outputs": [],
      "source": [
        "def sigmoid(z):\n",
        "    return 1 / (1+np.exp(-z))\n",
        "\n",
        "\n",
        "\n",
        "def sigmoid_derivative(z):\n",
        "    return np.exp(-z)/((1+np.exp(-z))**2)\n",
        "\n",
        "\n",
        "def forward_prop(x,Wxh,Why):\n",
        "    z1 = np.dot(x,Wxh) + bh\n",
        "    a1 = sigmoid(z1)\n",
        "    z2 = np.dot(a1,Why) + by\n",
        "    y_hat = sigmoid(z2)\n",
        "\n",
        "    return z1,a1,z2,y_hat\n",
        "\n",
        "\n",
        "def backword_prop(y_hat, z1, a1, z2):\n",
        "    delta2 = np.multiply(-(y-y_hat),sigmoid_derivative(z2))\n",
        "    dJ_dWhy = np.dot(a1.T, delta2)\n",
        "    delta1 = np.dot(delta2,Why.T)*sigmoid_derivative(z1)\n",
        "    dJ_dWxh = np.dot(x.T, delta1)\n",
        "\n",
        "    return dJ_dWxh, dJ_dWhy\n",
        "\n",
        "def cost_function(y, y_hat):\n",
        "    J = 0.5*sum((y-y_hat)**2)\n",
        "    return J\n",
        "\n",
        "\n",
        "\n",
        "\n",
        "def dot_product_breakdown(matrix_a, matrix_b):\n",
        "    # Check if matrices are compatible for dot product\n",
        "    if matrix_a.shape[1] != matrix_b.shape[0]:\n",
        "        print(\"Error: Incompatible matrices for dot product.\")\n",
        "        return\n",
        "\n",
        "    # Calculate the dot product\n",
        "    result = np.dot(matrix_a, matrix_b)\n",
        "\n",
        "    # Print the detailed breakdown in the console\n",
        "    print(\"Detailed Breakdown of Dot Product:\")\n",
        "    print(\"===================================\")\n",
        "    print(\" Element   |   Calculation                    |   Result\")\n",
        "    print(\"------------|----------------------------------|------------------\")\n",
        "\n",
        "    # Iterate through each element in the resulting matrix\n",
        "    for k in range(result.shape[1]):\n",
        "      for i in range(result.shape[0]):\n",
        "          calculation = \" + \".join([f\"({matrix_a[i, j]} * {matrix_b[j, k]})\" for j in range(matrix_a.shape[1])])\n",
        "          print(f\" Result[{i + 1},1] |   {calculation}   |   {result[i, k]}\")\n",
        "\n",
        "    print(\"===================================\")"
      ]
    },
    {
      "cell_type": "markdown",
      "source": [
        "# Requirements"
      ],
      "metadata": {
        "id": "MKlwQZ-2Vo7i"
      }
    },
    {
      "cell_type": "code",
      "source": [
        "import numpy as np\n",
        "import matplotlib.pyplot as plt\n",
        "%matplotlib inline"
      ],
      "metadata": {
        "id": "nnelulN9Vovw"
      },
      "execution_count": 1,
      "outputs": []
    },
    {
      "cell_type": "markdown",
      "source": [
        "#Design\n",
        "\n",
        "Putting all the concepts we have learned so far, we will see how to build a neural network\n",
        "from scratch. We will learn how the neural network learns to perform the XOR gate\n",
        "operation. The XOR gate returns 1 only when exactly only one of its inputs is 1 else it returns 0 as shown in\n",
        "the following figure:\n",
        "\n",
        "![image](https://github.com/PacktPublishing/Hands-On-Deep-Learning-Algorithms-with-Python/blob/master/Chapter01/images/1.png?raw=1)\n",
        "\n",
        "\n",
        "To perform the XOR gate operation, we build a simple two-layer neural network as shown\n",
        "in the following figure. As you can observe, we have an input layer with two nodes, a\n",
        "hidden layer with five nodes and an output layers which consist of 1 node:\n",
        "\n",
        "\n",
        "![image](https://github.com/PacktPublishing/Hands-On-Deep-Learning-Algorithms-with-Python/blob/master/Chapter01/images/2.png?raw=1)\n"
      ],
      "metadata": {
        "id": "WSxy4yMnVyLk"
      }
    },
    {
      "cell_type": "markdown",
      "source": [
        "#Define dataset"
      ],
      "metadata": {
        "id": "LSvd4XpyWJJx"
      }
    },
    {
      "cell_type": "code",
      "source": [
        "#x = np.array([ [0], [1], [1],[0]])\n",
        "\n",
        "\n",
        "x = np.array([ [0,1], [1,0], [1,1],[0,0]])\n",
        "y = np.array([ [1], [1], [0], [0]])"
      ],
      "metadata": {
        "id": "NTeLPFVVVotZ"
      },
      "execution_count": 3,
      "outputs": []
    },
    {
      "cell_type": "markdown",
      "source": [
        "#Define the number of nodes in each layer:"
      ],
      "metadata": {
        "id": "zyr8ssZ6WPIO"
      }
    },
    {
      "cell_type": "code",
      "source": [
        "num_input_nuron = x.shape[1]\n",
        "num_hidden_neuron = 5\n",
        "num_output_neuron = 1"
      ],
      "metadata": {
        "id": "Z44PbHN5VorG"
      },
      "execution_count": 4,
      "outputs": []
    },
    {
      "cell_type": "markdown",
      "source": [
        "#Initialize weights and bias randomly. First, we initialize, input to hidden layer weights:"
      ],
      "metadata": {
        "id": "O8ZKBT6HWSX9"
      }
    },
    {
      "cell_type": "code",
      "source": [
        "Wxh = np.random.randn(num_input_nuron,num_hidden_neuron)\n",
        "bh = np.zeros((1,num_hidden_neuron))"
      ],
      "metadata": {
        "id": "X6Opur2NVoox"
      },
      "execution_count": 5,
      "outputs": []
    },
    {
      "cell_type": "code",
      "source": [
        "Wxh,bh"
      ],
      "metadata": {
        "colab": {
          "base_uri": "https://localhost:8080/"
        },
        "id": "HvSi5oETVomU",
        "outputId": "af9eaf6d-1c1c-421f-edbd-d921eae3eda6"
      },
      "execution_count": 6,
      "outputs": [
        {
          "output_type": "execute_result",
          "data": {
            "text/plain": [
              "(array([[ 0.11504582,  0.21389847, -1.10702661, -0.58049586,  0.29216823],\n",
              "        [ 0.22818819,  0.40889456, -0.14985501, -0.65731402,  1.56974901]]),\n",
              " array([[0., 0., 0., 0., 0.]]))"
            ]
          },
          "metadata": {},
          "execution_count": 6
        }
      ]
    },
    {
      "cell_type": "markdown",
      "source": [
        "#Now initialize, hidden to output layer weights:"
      ],
      "metadata": {
        "id": "jbgiriE6WdTq"
      }
    },
    {
      "cell_type": "code",
      "source": [
        "Why = np.random.randn (num_input_nuron,num_hidden_neuron)\n",
        "by = np.zeros((1,num_output_neuron))"
      ],
      "metadata": {
        "id": "gXHQAGiBVoj_"
      },
      "execution_count": 7,
      "outputs": []
    },
    {
      "cell_type": "code",
      "source": [
        "Why, by"
      ],
      "metadata": {
        "colab": {
          "base_uri": "https://localhost:8080/"
        },
        "id": "9Eq7-qUbVohi",
        "outputId": "ba8a62b2-0354-427f-a0e4-2fd44752458c"
      },
      "execution_count": 8,
      "outputs": [
        {
          "output_type": "execute_result",
          "data": {
            "text/plain": [
              "(array([[ 0.3969645 ],\n",
              "        [ 0.9729442 ],\n",
              "        [ 0.07122377],\n",
              "        [ 1.51936219],\n",
              "        [-0.56504529]]),\n",
              " array([[0.]]))"
            ]
          },
          "metadata": {},
          "execution_count": 8
        }
      ]
    },
    {
      "cell_type": "markdown",
      "source": [
        "#Set the learning rate and number of training iterations:"
      ],
      "metadata": {
        "id": "MSdZ5mOmWoZA"
      }
    },
    {
      "cell_type": "code",
      "source": [
        "alpha = 0.01\n",
        "num_iterations = 5000"
      ],
      "metadata": {
        "id": "t7iRqj-VWl91"
      },
      "execution_count": 9,
      "outputs": []
    },
    {
      "cell_type": "markdown",
      "source": [
        "#Now let's start training the network:"
      ],
      "metadata": {
        "id": "zdEQMumAWvtM"
      }
    },
    {
      "cell_type": "code",
      "source": [
        "%%capture\n",
        "cost = []\n",
        "for i in range(num_iterations):\n",
        "\n",
        "    #perform forward propagation and predict output\n",
        "    z1,a1,z2,y_hat = forward_prop(x,Wxh,Why)\n",
        "    print(\"Iteration: \", i,\"----------------------------------------------------------------------------------------------------------\")\n",
        "\n",
        "    print(\"#perform forward propagation and predict output: \")\n",
        "    print(\"z1 = \",z1)\n",
        "    print(\"a1 = \",a1)\n",
        "    print(\"z2 = \",z2)\n",
        "    print(\"y_hat = \",y_hat)\n",
        "\n",
        "    #perform backward propagation and calculate gradients\n",
        "    dJ_dWxh, dJ_dWhy = backword_prop(y_hat, z1, a1, z2)\n",
        "    print(\"#perform backward propagation and calculate gradients: \")\n",
        "    print(\"dJ_dWxh = \",dJ_dWxh)\n",
        "    print(\"dJ_dWhy = \",dJ_dWhy)\n",
        "\n",
        "\n",
        "    #update the weights\n",
        "    Wxh = Wxh -alpha * dJ_dWxh\n",
        "    Why = Why -alpha * dJ_dWhy\n",
        "\n",
        "    print(\"#update the weights: \")\n",
        "    print(\"Wxh = \",Wxh)\n",
        "    print(\"Why = \",Why)\n",
        "\n",
        "    #compute cost\n",
        "    c = cost_function(y, y_hat)\n",
        "    print(\"#compute cost: \")\n",
        "    print(\"cost = \",c)\n",
        "\n",
        "    #store the cost\n",
        "    cost.append(c)"
      ],
      "metadata": {
        "id": "dG0goiCYWl7f"
      },
      "execution_count": 10,
      "outputs": []
    },
    {
      "cell_type": "code",
      "source": [
        "plt.grid()\n",
        "plt.plot(range(num_iterations),cost)\n",
        "\n",
        "plt.title('Cost Function')\n",
        "plt.xlabel('Training Iterations')\n",
        "plt.ylabel('Cost')"
      ],
      "metadata": {
        "colab": {
          "base_uri": "https://localhost:8080/",
          "height": 489
        },
        "id": "PP8j2DUyWl5X",
        "outputId": "5b322228-9a5c-48a5-fa52-eb0260ffdd54"
      },
      "execution_count": 11,
      "outputs": [
        {
          "output_type": "execute_result",
          "data": {
            "text/plain": [
              "Text(0, 0.5, 'Cost')"
            ]
          },
          "metadata": {},
          "execution_count": 11
        },
        {
          "output_type": "display_data",
          "data": {
            "text/plain": [
              "<Figure size 640x480 with 1 Axes>"
            ],
            "image/png": "[encoded data removed]"
          },
          "metadata": {}
        }
      ]
    },
    {
      "cell_type": "markdown",
      "source": [
        "#details"
      ],
      "metadata": {
        "id": "9txVtCMnVLYy"
      }
    },
    {
      "cell_type": "code",
      "source": [
        "x = np.array([ [0,1], [1,0], [1,1],[0,0]])\n",
        "y = np.array([ [1], [1], [0], [0]])\n",
        "\n",
        "\n",
        "num_input_neuron = x.shape[1]\n",
        "num_hidden_neuron = 5\n",
        "num_output_neuron = 1"
      ],
      "metadata": {
        "id": "fZ9TmHkaWl3E"
      },
      "execution_count": 3,
      "outputs": []
    },
    {
      "cell_type": "code",
      "source": [
        "Wxh = np.random.randn(num_input_neuron,num_hidden_neuron)\n",
        "bh = np.zeros((1,num_hidden_neuron))"
      ],
      "metadata": {
        "id": "9-rjFRjfWl0x"
      },
      "execution_count": 4,
      "outputs": []
    },
    {
      "cell_type": "code",
      "source": [
        "Why = np.random.randn (num_hidden_neuron,num_output_neuron)\n",
        "by = np.zeros((1,num_output_neuron))"
      ],
      "metadata": {
        "id": "s8F3aY2WWlyU"
      },
      "execution_count": 5,
      "outputs": []
    },
    {
      "cell_type": "code",
      "source": [
        "z1,a1,z2,y_hat = forward_prop(x,Wxh,Why)\n",
        "dJ_dWxh, dJ_dWhy = backword_prop(y_hat, z1, a1, z2)"
      ],
      "metadata": {
        "id": "39oLi8hdZW3w"
      },
      "execution_count": 6,
      "outputs": []
    },
    {
      "cell_type": "code",
      "source": [
        "x,Wxh,Why"
      ],
      "metadata": {
        "colab": {
          "base_uri": "https://localhost:8080/"
        },
        "id": "-D3HtzEsZ_AI",
        "outputId": "c6be8f1b-326a-45fa-c0eb-de558ebe169c"
      },
      "execution_count": 8,
      "outputs": [
        {
          "output_type": "execute_result",
          "data": {
            "text/plain": [
              "(array([[0, 1],\n",
              "        [1, 0],\n",
              "        [1, 1],\n",
              "        [0, 0]]),\n",
              " array([[-0.47954065,  0.20615306,  1.23495644,  0.46804693, -0.49312533],\n",
              "        [ 0.5611691 , -0.03092361, -1.99684944,  0.62336978,  0.73940902]]),\n",
              " array([[ 0.28341541],\n",
              "        [-0.30764751],\n",
              "        [-0.63190145],\n",
              "        [ 1.29136923],\n",
              "        [ 0.20140833]]))"
            ]
          },
          "metadata": {},
          "execution_count": 8
        }
      ]
    },
    {
      "cell_type": "code",
      "source": [
        " dot_product_breakdown(x, Wxh)"
      ],
      "metadata": {
        "id": "DDUHzTovWlwD",
        "colab": {
          "base_uri": "https://localhost:8080/"
        },
        "outputId": "55ce1050-9220-4586-a1ef-c0da9cf837c8"
      },
      "execution_count": 9,
      "outputs": [
        {
          "output_type": "stream",
          "name": "stdout",
          "text": [
            "Detailed Breakdown of Dot Product:\n",
            "===================================\n",
            " Element   |   Calculation                    |   Result\n",
            "------------|----------------------------------|------------------\n",
            " Result[1,1] |   (0 * -0.4795406457863602) + (1 * 0.5611690971371517)   |   0.5611690971371517\n",
            " Result[2,1] |   (1 * -0.4795406457863602) + (0 * 0.5611690971371517)   |   -0.4795406457863602\n",
            " Result[3,1] |   (1 * -0.4795406457863602) + (1 * 0.5611690971371517)   |   0.0816284513507915\n",
            " Result[4,1] |   (0 * -0.4795406457863602) + (0 * 0.5611690971371517)   |   0.0\n",
            " Result[1,1] |   (0 * 0.20615305691793048) + (1 * -0.03092361364834478)   |   -0.03092361364834478\n",
            " Result[2,1] |   (1 * 0.20615305691793048) + (0 * -0.03092361364834478)   |   0.20615305691793048\n",
            " Result[3,1] |   (1 * 0.20615305691793048) + (1 * -0.03092361364834478)   |   0.1752294432695857\n",
            " Result[4,1] |   (0 * 0.20615305691793048) + (0 * -0.03092361364834478)   |   0.0\n",
            " Result[1,1] |   (0 * 1.2349564375341873) + (1 * -1.9968494355298494)   |   -1.9968494355298494\n",
            " Result[2,1] |   (1 * 1.2349564375341873) + (0 * -1.9968494355298494)   |   1.2349564375341873\n",
            " Result[3,1] |   (1 * 1.2349564375341873) + (1 * -1.9968494355298494)   |   -0.7618929979956621\n",
            " Result[4,1] |   (0 * 1.2349564375341873) + (0 * -1.9968494355298494)   |   0.0\n",
            " Result[1,1] |   (0 * 0.46804693306640843) + (1 * 0.6233697781990648)   |   0.6233697781990648\n",
            " Result[2,1] |   (1 * 0.46804693306640843) + (0 * 0.6233697781990648)   |   0.46804693306640843\n",
            " Result[3,1] |   (1 * 0.46804693306640843) + (1 * 0.6233697781990648)   |   1.0914167112654733\n",
            " Result[4,1] |   (0 * 0.46804693306640843) + (0 * 0.6233697781990648)   |   0.0\n",
            " Result[1,1] |   (0 * -0.4931253261034169) + (1 * 0.7394090245612822)   |   0.7394090245612822\n",
            " Result[2,1] |   (1 * -0.4931253261034169) + (0 * 0.7394090245612822)   |   -0.4931253261034169\n",
            " Result[3,1] |   (1 * -0.4931253261034169) + (1 * 0.7394090245612822)   |   0.2462836984578653\n",
            " Result[4,1] |   (0 * -0.4931253261034169) + (0 * 0.7394090245612822)   |   0.0\n",
            "===================================\n"
          ]
        }
      ]
    },
    {
      "cell_type": "code",
      "source": [],
      "metadata": {
        "id": "Rnh8BUL9aJtX"
      },
      "execution_count": null,
      "outputs": []
    },
    {
      "cell_type": "markdown",
      "source": [
        "#More Versetile"
      ],
      "metadata": {
        "id": "AbtszehYiHuX"
      }
    },
    {
      "cell_type": "code",
      "source": [
        "import numpy as np\n",
        "import matplotlib.pyplot as plt\n",
        "import networkx as nx\n",
        "\n",
        "class NeuralNetwork:\n",
        "    def __init__(self, layer_sizes):\n",
        "        self.layer_sizes = layer_sizes\n",
        "        self.num_layers = len(layer_sizes)\n",
        "        self.weights = [np.random.randn(y, x) for x, y in zip(layer_sizes[:-1], layer_sizes[1:])]\n",
        "        self.biases = [np.random.randn(y, 1) for y in layer_sizes[1:]]\n",
        "\n",
        "    def sigmoid(self, z):\n",
        "        return 1.0 / (1.0 + np.exp(-z))\n",
        "\n",
        "    def sigmoid_derivative(self, z):\n",
        "        return self.sigmoid(z) * (1 - self.sigmoid(z))\n",
        "\n",
        "    def feedforward(self, inputs):\n",
        "        activations = inputs\n",
        "        for w, b in zip(self.weights, self.biases):\n",
        "            activations = self.sigmoid(np.dot(w, activations) + b)\n",
        "        return activations\n",
        "\n",
        "    def train(self, training_data, epochs, learning_rate):\n",
        "        for epoch in range(epochs):\n",
        "            for x, y in training_data:\n",
        "                self.update_weights_biases(x, y, learning_rate)\n",
        "            print(f\"Epoch {epoch + 1}/{epochs} completed\")\n",
        "\n",
        "    def update_weights_biases(self, x, y, learning_rate):\n",
        "         # Forward pass\n",
        "        activations = [x]\n",
        "        zs = []\n",
        "\n",
        "        for w, b in zip(self.weights, self.biases):\n",
        "            z = np.dot(w, activations[-1]) + b\n",
        "            zs.append(z)\n",
        "            activations.append(self.sigmoid(z))\n",
        "\n",
        "        # Backward pass\n",
        "        delta = self.mean_squared_error_derivative(activations[-1], y) * self.sigmoid_derivative(zs[-1])\n",
        "        nabla_b = [delta]\n",
        "        nabla_w = [np.dot(delta, activations[-2].T)]\n",
        "\n",
        "        for l in range(2, self.num_layers):\n",
        "            z = zs[-l]\n",
        "            sp = self.sigmoid_derivative(z)\n",
        "            delta = np.dot(self.weights[-l + 1].T, delta) * sp\n",
        "            nabla_b.insert(0, delta)\n",
        "            nabla_w.insert(0, np.dot(delta, activations[-l - 1].T))\n",
        "\n",
        "        # Update weights and biases\n",
        "        self.weights = [w - (learning_rate / len(x)) * nw for w, nw in zip(self.weights, nabla_w)]\n",
        "        self.biases = [b - (learning_rate / len(x)) * nb.sum(axis=1, keepdims=True) for b, nb in zip(self.biases, nabla_b)]\n",
        "\n",
        "\n",
        "    def mean_squared_error_derivative(self, output_activations, y):\n",
        "        return output_activations - y\n",
        "\n",
        "    def visualize(self):\n",
        "        G = nx.DiGraph()\n",
        "\n",
        "        # Add nodes\n",
        "        for i, size in enumerate(self.layer_sizes):\n",
        "            G.add_node(f\"Layer {i + 1}\\n{size} Neurons\", pos=(i, -i))\n",
        "\n",
        "        # Add edges\n",
        "        for i in range(len(self.layer_sizes) - 1):\n",
        "            for j in range(self.layer_sizes[i]):\n",
        "                for k in range(self.layer_sizes[i + 1]):\n",
        "                    G.add_edge(f\"Layer {i + 1}\\n{self.layer_sizes[i]} Neurons\", f\"Layer {i + 2}\\n{self.layer_sizes[i + 1]} Neurons\")\n",
        "\n",
        "        # Draw the neural network\n",
        "        pos = nx.get_node_attributes(G, 'pos')\n",
        "        nx.draw(G, pos, with_labels=True, font_weight='bold', node_size=1000, node_color='skyblue', font_size=8, font_color='black')\n",
        "        plt.show()\n",
        "\n",
        "# Example usage:\n",
        "if __name__ == \"__main__\":\n",
        "    # Define the neural network architecture (number of neurons in each layer)\n",
        "    layer_sizes = [2, 4, 3, 1,7,8]  # Example with 4 layers\n",
        "\n",
        "    # Create a neural network\n",
        "    neural_network = NeuralNetwork(layer_sizes)\n",
        "\n",
        "    # Visualize the neural network\n",
        "    neural_network.visualize()\n",
        "\n",
        "    # Define training data (x: input, y: target output)\n",
        "    training_data = [(np.array([[0], [0]]), np.array([[0]])),\n",
        "                     (np.array([[0], [1]]), np.array([[1]])),\n",
        "                     (np.array([[1], [0]]), np.array([[1]])),\n",
        "                     (np.array([[1], [1]]), np.array([[0]]))]\n",
        "\n",
        "    # Train the neural network\n",
        "    neural_network.train(training_data, epochs=100, learning_rate=0.1)\n",
        "\n",
        "    # Test the trained neural network\n",
        "    for x, y in training_data:\n",
        "        prediction = neural_network.feedforward(x)\n",
        "        print(f\"Input: {x}, Target Output: {y}, Predicted Output: {prediction}\")\n"
      ],
      "metadata": {
        "id": "zEm1BEyBiJ_Q",
        "outputId": "608eed04-34a5-47d7-ee37-a816b35de098",
        "colab": {
          "base_uri": "https://localhost:8080/",
          "height": 1000
        }
      },
      "execution_count": 10,
      "outputs": [
        {
          "output_type": "display_data",
          "data": {
            "text/plain": [
              "<Figure size 640x480 with 1 Axes>"
            ],
            "image/png": "[encoded data removed]"
          },
          "metadata": {}
        },
        {
          "output_type": "stream",
          "name": "stdout",
          "text": [
            "Epoch 1/100 completed\n",
            "Epoch 2/100 completed\n",
            "Epoch 3/100 completed\n",
            "Epoch 4/100 completed\n",
            "Epoch 5/100 completed\n",
            "Epoch 6/100 completed\n",
            "Epoch 7/100 completed\n",
            "Epoch 8/100 completed\n",
            "Epoch 9/100 completed\n",
            "Epoch 10/100 completed\n",
            "Epoch 11/100 completed\n",
            "Epoch 12/100 completed\n",
            "Epoch 13/100 completed\n",
            "Epoch 14/100 completed\n",
            "Epoch 15/100 completed\n",
            "Epoch 16/100 completed\n",
            "Epoch 17/100 completed\n",
            "Epoch 18/100 completed\n",
            "Epoch 19/100 completed\n",
            "Epoch 20/100 completed\n",
            "Epoch 21/100 completed\n",
            "Epoch 22/100 completed\n",
            "Epoch 23/100 completed\n",
            "Epoch 24/100 completed\n",
            "Epoch 25/100 completed\n",
            "Epoch 26/100 completed\n",
            "Epoch 27/100 completed\n",
            "Epoch 28/100 completed\n",
            "Epoch 29/100 completed\n",
            "Epoch 30/100 completed\n",
            "Epoch 31/100 completed\n",
            "Epoch 32/100 completed\n",
            "Epoch 33/100 completed\n",
            "Epoch 34/100 completed\n",
            "Epoch 35/100 completed\n",
            "Epoch 36/100 completed\n",
            "Epoch 37/100 completed\n",
            "Epoch 38/100 completed\n",
            "Epoch 39/100 completed\n",
            "Epoch 40/100 completed\n",
            "Epoch 41/100 completed\n",
            "Epoch 42/100 completed\n",
            "Epoch 43/100 completed\n",
            "Epoch 44/100 completed\n",
            "Epoch 45/100 completed\n",
            "Epoch 46/100 completed\n",
            "Epoch 47/100 completed\n",
            "Epoch 48/100 completed\n",
            "Epoch 49/100 completed\n",
            "Epoch 50/100 completed\n",
            "Epoch 51/100 completed\n",
            "Epoch 52/100 completed\n",
            "Epoch 53/100 completed\n",
            "Epoch 54/100 completed\n",
            "Epoch 55/100 completed\n",
            "Epoch 56/100 completed\n",
            "Epoch 57/100 completed\n",
            "Epoch 58/100 completed\n",
            "Epoch 59/100 completed\n",
            "Epoch 60/100 completed\n",
            "Epoch 61/100 completed\n",
            "Epoch 62/100 completed\n",
            "Epoch 63/100 completed\n",
            "Epoch 64/100 completed\n",
            "Epoch 65/100 completed\n",
            "Epoch 66/100 completed\n",
            "Epoch 67/100 completed\n",
            "Epoch 68/100 completed\n",
            "Epoch 69/100 completed\n",
            "Epoch 70/100 completed\n",
            "Epoch 71/100 completed\n",
            "Epoch 72/100 completed\n",
            "Epoch 73/100 completed\n",
            "Epoch 74/100 completed\n",
            "Epoch 75/100 completed\n",
            "Epoch 76/100 completed\n",
            "Epoch 77/100 completed\n",
            "Epoch 78/100 completed\n",
            "Epoch 79/100 completed\n",
            "Epoch 80/100 completed\n",
            "Epoch 81/100 completed\n",
            "Epoch 82/100 completed\n",
            "Epoch 83/100 completed\n",
            "Epoch 84/100 completed\n",
            "Epoch 85/100 completed\n",
            "Epoch 86/100 completed\n",
            "Epoch 87/100 completed\n",
            "Epoch 88/100 completed\n",
            "Epoch 89/100 completed\n",
            "Epoch 90/100 completed\n",
            "Epoch 91/100 completed\n",
            "Epoch 92/100 completed\n",
            "Epoch 93/100 completed\n",
            "Epoch 94/100 completed\n",
            "Epoch 95/100 completed\n",
            "Epoch 96/100 completed\n",
            "Epoch 97/100 completed\n",
            "Epoch 98/100 completed\n",
            "Epoch 99/100 completed\n",
            "Epoch 100/100 completed\n",
            "Input: [[0]\n",
            " [0]], Target Output: [[0]], Predicted Output: [[0.49689259]\n",
            " [0.52681143]\n",
            " [0.47840468]\n",
            " [0.4927413 ]\n",
            " [0.54692835]\n",
            " [0.49539407]\n",
            " [0.48038068]\n",
            " [0.49017293]]\n",
            "Input: [[0]\n",
            " [1]], Target Output: [[1]], Predicted Output: [[0.49757467]\n",
            " [0.52603591]\n",
            " [0.47827571]\n",
            " [0.49239114]\n",
            " [0.54885943]\n",
            " [0.49315144]\n",
            " [0.48392649]\n",
            " [0.4887695 ]]\n",
            "Input: [[1]\n",
            " [0]], Target Output: [[1]], Predicted Output: [[0.49667214]\n",
            " [0.52706488]\n",
            " [0.47844628]\n",
            " [0.49285024]\n",
            " [0.54629925]\n",
            " [0.4961226 ]\n",
            " [0.47922786]\n",
            " [0.49062957]]\n",
            "Input: [[1]\n",
            " [1]], Target Output: [[0]], Predicted Output: [[0.49746173]\n",
            " [0.52616343]\n",
            " [0.47829709]\n",
            " [0.49245048]\n",
            " [0.54854127]\n",
            " [0.49352159]\n",
            " [0.48334156]\n",
            " [0.4890009 ]]\n"
          ]
        }
      ]
    }
  ]
}